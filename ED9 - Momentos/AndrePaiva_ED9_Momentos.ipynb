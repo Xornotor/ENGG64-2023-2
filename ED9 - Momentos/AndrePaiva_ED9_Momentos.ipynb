{
 "cells": [
  {
   "cell_type": "markdown",
   "metadata": {},
   "source": [
    "# **Estudo Dirigido 9 - Momentos**\n",
    "\n",
    "**Aluno:** André Paiva Conrado Rodrigues\n",
    "\n",
    "**Matéria:** ENGG64 - Visão Computacional - 2023.2"
   ]
  },
  {
   "cell_type": "markdown",
   "metadata": {},
   "source": [
    "## 1 - Importação de dependências e configurações\n",
    "\n",
    "Para esta atividade é utilizada a `machinevisiontoolbox` do Peter Corke e a biblioteca `matplotlib` para exibição de imagens, além do `numpy` para operações matemáticas."
   ]
  },
  {
   "cell_type": "code",
   "execution_count": 1,
   "metadata": {},
   "outputs": [
    {
     "name": "stdout",
     "output_type": "stream",
     "text": [
      "Jupyter environment detected. Enabling Open3D WebVisualizer.\n",
      "[Open3D INFO] WebRTC GUI backend enabled.\n",
      "[Open3D INFO] WebRTCWindowSystem: HTTP handshake server disabled.\n"
     ]
    }
   ],
   "source": [
    "import numpy as np\n",
    "from machinevisiontoolbox.base import *\n",
    "from machinevisiontoolbox import *\n",
    "from spatialmath.base import *\n",
    "from spatialmath import *\n",
    "from matplotlib import pyplot as plt"
   ]
  },
  {
   "cell_type": "markdown",
   "metadata": {},
   "source": [
    "## 2 - Abrindo a imagem\n",
    "\n",
    "Primeiramente, é importada a imagem e é feita a binarização."
   ]
  },
  {
   "cell_type": "code",
   "execution_count": 2,
   "metadata": {},
   "outputs": [
    {
     "data": {
      "text/plain": [
       "<matplotlib.image.AxesImage at 0x7fddfc48a020>"
      ]
     },
     "execution_count": 2,
     "metadata": {},
     "output_type": "execute_result"
    },
    {
     "data": {
      "image/png": "[encoded data removed]",
      "text/plain": [
       "<Figure size 640x480 with 1 Axes>"
      ]
     },
     "metadata": {},
     "output_type": "display_data"
    }
   ],
   "source": [
    "# Leitura da imagem original\n",
    "aviao = Image.Read(\"aviao_ed.png\", dtype='float')\n",
    "aviao_bin = (aviao.colorspace(\"L*a*b*\").plane(\"L*:\") >= 0.5)\n",
    "aviao_bin.disp()"
   ]
  },
  {
   "cell_type": "markdown",
   "metadata": {},
   "source": [
    "## 3 - Área do objeto\n",
    "\n",
    "A área do objeto pode ser obtida por meio do momento $m_{00}$."
   ]
  },
  {
   "cell_type": "code",
   "execution_count": 3,
   "metadata": {},
   "outputs": [
    {
     "name": "stdout",
     "output_type": "stream",
     "text": [
      "7275\n"
     ]
    }
   ],
   "source": [
    "area = aviao_bin.mpq(0, 0)\n",
    "print(area)"
   ]
  },
  {
   "cell_type": "markdown",
   "metadata": {},
   "source": [
    "## 4 - Centroide do objeto\n",
    "\n",
    "O centroide do objeto, em coordenadas $(u_{c}, v_{c})$ pode ser calculada do seguinte modo:\n",
    "\n",
    "$$u_{c} = \\dfrac{m_{10}}{m_{00}}$$\n",
    "$$v_{c} = \\dfrac{m_{01}}{m_{00}}$$"
   ]
  },
  {
   "cell_type": "code",
   "execution_count": 4,
   "metadata": {},
   "outputs": [
    {
     "name": "stdout",
     "output_type": "stream",
     "text": [
      "uc = 423.200412371134; vc = 306.1018556701031\n"
     ]
    }
   ],
   "source": [
    "uc = aviao_bin.mpq(1, 0) / area\n",
    "vc = aviao_bin.mpq(0, 1) / area\n",
    "print(f'uc = {uc}; vc = {vc}')"
   ]
  },
  {
   "cell_type": "markdown",
   "metadata": {},
   "source": [
    "## 5 - Momento central e Matriz de Inércia\n",
    "\n",
    "Os momentos centrais $\\mu_{pq}$ são calculados em relação aos momentos $m_{pq}$ do seguinte modo:\n",
    "\n",
    "$$\\mu_{10} = 0$$\n",
    "$$\\mu_{01} = 0$$\n",
    "$$\\mu_{20} = m_{20} - \\dfrac{m^{2}_{10}}{m_{00}}$$\n",
    "$$\\mu_{02} = m_{02} - \\dfrac{m^{2}_{01}}{m_{00}}$$\n",
    "$$\\mu_{11} = m_{11} - \\dfrac{m_{10}m_{01}}{m_{00}}$$\n",
    "\n",
    "A matriz de inércia é dada por:\n",
    "\n",
    "$$\\boldsymbol{J} = \\begin{pmatrix} \n",
    "  \\mu_{20} & \\mu_{11}\\\\ \n",
    "  \\mu_{11} & \\mu_{02} \n",
    "\\end{pmatrix}$$"
   ]
  },
  {
   "cell_type": "code",
   "execution_count": 5,
   "metadata": {},
   "outputs": [
    {
     "name": "stdout",
     "output_type": "stream",
     "text": [
      "[[43596275.79876288 -7179994.50556701]\n",
      " [-7179994.50556701 17843053.52494845]]\n"
     ]
    }
   ],
   "source": [
    "mu_20 = aviao_bin.upq(2, 0)\n",
    "mu_02 = aviao_bin.upq(0, 2)\n",
    "mu_11 = aviao_bin.upq(1, 1)\n",
    "\n",
    "J = np.array([[mu_20, mu_11],[mu_11, mu_02]])\n",
    "print(J)"
   ]
  },
  {
   "cell_type": "markdown",
   "metadata": {},
   "source": [
    "## 6 - Elipse equivalente\n",
    "\n",
    "O elipse pode ser definido pelo seu raio maior e raio menor."
   ]
  },
  {
   "cell_type": "code",
   "execution_count": 10,
   "metadata": {},
   "outputs": [
    {
     "name": "stdout",
     "output_type": "stream",
     "text": [
      "Raio maior: 158.10350172341606\n",
      "Raio menor: 93.72490216074145\n",
      "Razão de aspecto: 0.5928072505611066\n"
     ]
    }
   ],
   "source": [
    "lmbda, eigen = np.linalg.eig(J)\n",
    "max_radius = 2 * np.sqrt(lmbda.max() / area)\n",
    "min_radius = 2 * np.sqrt(lmbda.min() / area)\n",
    "aspect_ratio = min_radius / max_radius\n",
    "print(f'Raio maior: {max_radius}\\nRaio menor: {min_radius}\\nRazão de aspecto: {aspect_ratio}')"
   ]
  },
  {
   "cell_type": "markdown",
   "metadata": {},
   "source": [
    "## 7 - Orientação\n",
    "\n",
    "A orientação define o ângulo de inclinação do elipse."
   ]
  },
  {
   "cell_type": "code",
   "execution_count": 13,
   "metadata": {},
   "outputs": [
    {
     "name": "stdout",
     "output_type": "stream",
     "text": [
      "Orientação: -14.57º\n"
     ]
    }
   ],
   "source": [
    "z = eigen[:, np.argmax(lmbda)]\n",
    "theta = np.rad2deg(np.arctan2(z[1], z[0]))\n",
    "print(f\"Orientação: {theta:.2f}º\")"
   ]
  },
  {
   "cell_type": "markdown",
   "metadata": {},
   "source": [
    "## 8 - Centroide e elipse plotados na imagem\n",
    "\n",
    "Podemos notar que o centroide da imagem está levemente deslocado para baixo do avião, em decorrência da maior concentração de pixels do blob estar localizada na região embaixo à esquerda."
   ]
  },
  {
   "cell_type": "code",
   "execution_count": 14,
   "metadata": {},
   "outputs": [
    {
     "data": {
      "image/png": "[encoded data removed]",
      "text/plain": [
       "<Figure size 640x480 with 1 Axes>"
      ]
     },
     "metadata": {},
     "output_type": "display_data"
    }
   ],
   "source": [
    "with plt.ioff():\n",
    "    aviao_bin.disp()\n",
    "    plot_ellipse(2.3 * J / area, centre=(uc, vc), inverted=True, color=\"blue\")\n",
    "    plot_point((uc, vc), [\"bo\", \"bx\"])\n",
    "    plt.show()"
   ]
  }
 ],
 "metadata": {
  "kernelspec": {
   "display_name": "RVC3",
   "language": "python",
   "name": "python3"
  },
  "language_info": {
   "codemirror_mode": {
    "name": "ipython",
    "version": 3
   },
   "file_extension": ".py",
   "mimetype": "text/x-python",
   "name": "python",
   "nbconvert_exporter": "python",
   "pygments_lexer": "ipython3",
   "version": "3.10.13"
  },
  "orig_nbformat": 4
 },
 "nbformat": 4,
 "nbformat_minor": 2
}
