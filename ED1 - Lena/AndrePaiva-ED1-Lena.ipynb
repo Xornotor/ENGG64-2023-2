{
 "cells": [
  {
   "cell_type": "markdown",
   "metadata": {},
   "source": [
    "# **Estudo Dirigido 1 - Lena**\n",
    "\n",
    "**Aluno:** André Paiva Conrado Rodrigues\n",
    "\n",
    "**Matéria:** ENGG64 - Visão Computacional - 2023.2"
   ]
  },
  {
   "cell_type": "markdown",
   "metadata": {},
   "source": [
    "## 1 - Importação de dependências e configurações\n",
    "\n",
    "Para esta atividade é utilizada a `machinevisiontoolbox` do Peter Corke e a biblioteca `matplotlib` para exibição de imagens e animações. Também são utilizados recursos do `IPython` para reprodução de vídeo."
   ]
  },
  {
   "cell_type": "code",
   "execution_count": null,
   "metadata": {},
   "outputs": [],
   "source": [
    "from IPython.display import HTML\n",
    "from IPython.display import display\n",
    "from machinevisiontoolbox import *\n",
    "import matplotlib as mpl\n",
    "from matplotlib import pyplot as plt\n",
    "from matplotlib import animation\n",
    "\n",
    "mpl.rcParams['animation.embed_limit'] = 200"
   ]
  },
  {
   "cell_type": "markdown",
   "metadata": {},
   "source": [
    "## 2 - Abrindo a imagem\n",
    "\n",
    "A imagem original é carregada na variável `lena`, e exibida com `matplotlib`. A importação foi feita com a representação numérica dos pixels em `double`."
   ]
  },
  {
   "cell_type": "code",
   "execution_count": null,
   "metadata": {},
   "outputs": [],
   "source": [
    "# Leitura da imagem original\n",
    "lena = Image.Read('lena.pgm', dtype='double')\n",
    "\n",
    "# Exibição da imagem original\n",
    "fig, ax = plt.subplots(1, 1)\n",
    "im = ax.imshow(lena.image, cmap='gray')\n",
    "ax.set_title('Imagem original')\n",
    "plt.show()"
   ]
  },
  {
   "cell_type": "markdown",
   "metadata": {},
   "source": [
    "## 3 - Animando a piscada\n",
    "\n",
    "Foi selecionada uma região acima do olho, aplicado um kernel gaussiano para suavização da imagem (por conta dos cílios), e a região suavizada foi transladada para baixo consecutivas vezes de modo a ocasionar uma sobreposição. O efeito não ficou realista, mas creio que cumpre o papel da atividade.\n",
    "\n",
    "**Atenção:** a execução do código a seguir pode levar alguns segundos."
   ]
  },
  {
   "cell_type": "code",
   "execution_count": null,
   "metadata": {},
   "outputs": [],
   "source": [
    "fig = plt.figure()\n",
    "plt.axis('off')\n",
    "plt.title('Lena Piscando')\n",
    "\n",
    "lena_anim = []\n",
    "lena_anim.append(np.copy(lena.image))\n",
    "\n",
    "start = 252\n",
    "for i in range(18):\n",
    "    lena_copy = np.copy(lena_anim[-1])\n",
    "    lena_copy[start+i+2:start+6+i+2, 250:288] = lena.convolve(Kernel.Gauss(sigma=3, h=7)).image[252:258, 250:288]\n",
    "    lena_anim.append(lena_copy)\n",
    "\n",
    "tmp = lena_anim[1:-1]\n",
    "tmp.reverse()\n",
    "\n",
    "lena_anim = (lena_anim + tmp)*5\n",
    "frames = [[plt.imshow(im, cmap='gray', animated=True)] for im in lena_anim]\n",
    "\n",
    "video_play = animation.ArtistAnimation(fig, frames, interval=16, blit=True, repeat_delay=1000)\n",
    "\n",
    "display(HTML(video_play.to_jshtml(embed_frames=True)))\n",
    "\n",
    "# PARA SALVAR O ARQUIVO DE VÍDEO, DESCOMENTE A LINHA ABAIXO\n",
    "video_play.save('lena.mp4', dpi = 200)\n",
    "\n",
    "plt.close()"
   ]
  }
 ],
 "metadata": {
  "kernelspec": {
   "display_name": "RVC3",
   "language": "python",
   "name": "python3"
  },
  "language_info": {
   "codemirror_mode": {
    "name": "ipython",
    "version": 3
   },
   "file_extension": ".py",
   "mimetype": "text/x-python",
   "name": "python",
   "nbconvert_exporter": "python",
   "pygments_lexer": "ipython3",
   "version": "3.10.13"
  },
  "orig_nbformat": 4
 },
 "nbformat": 4,
 "nbformat_minor": 2
}
