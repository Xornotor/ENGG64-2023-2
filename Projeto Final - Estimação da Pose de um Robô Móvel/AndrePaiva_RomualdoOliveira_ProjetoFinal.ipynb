{
 "cells": [
  {
   "cell_type": "markdown",
   "metadata": {},
   "source": [
    "# **Projeto Final - Estimação da Pose de um Robô Móvel**\n",
    "\n",
    "**Alunos:** André Paiva Conrado Rodrigues, Romualdo Oliveira Santos Filho\n",
    "\n",
    "**Matéria:** ENGG64 - Visão Computacional - 2023.2"
   ]
  },
  {
   "cell_type": "markdown",
   "metadata": {},
   "source": [
    "## 1 - Importação de dependências e configurações"
   ]
  },
  {
   "cell_type": "code",
   "execution_count": null,
   "metadata": {},
   "outputs": [],
   "source": [
    "from IPython.display import HTML\n",
    "from IPython.display import display\n",
    "import math\n",
    "from machinevisiontoolbox.base import *\n",
    "from machinevisiontoolbox import *\n",
    "from spatialmath.base import *\n",
    "from spatialmath import *\n",
    "import matplotlib as mpl\n",
    "from matplotlib import pyplot as plt\n",
    "from matplotlib import animation\n",
    "\n",
    "mpl.rcParams['animation.embed_limit'] = 500"
   ]
  },
  {
   "cell_type": "markdown",
   "metadata": {},
   "source": [
    "## 2 - Funções de processamento do vídeo"
   ]
  },
  {
   "cell_type": "code",
   "execution_count": null,
   "metadata": {},
   "outputs": [],
   "source": [
    "def bot_detector(video_input):\n",
    "    frames = []\n",
    "    blobs = []\n",
    "    ellipses = []\n",
    "    centres = []\n",
    "    gaussian = Kernel.Gauss(sigma = 5, h = 5)\n",
    "    S1 = np.ones((5, 5))\n",
    "    S2 = np.ones((35, 35))\n",
    "    S3 = np.ones((17, 17))\n",
    "    for frame in video_input:\n",
    "        proc_frame = frame\n",
    "        # DESFOQUE GAUSSIANO\n",
    "        proc_frame = proc_frame.convolve(gaussian)\n",
    "        # SEGMENTAÇÃO DE CORES\n",
    "        proc_frame = proc_frame.colorspace('L*a*b*').plane('a*:')\n",
    "        proc_frame = (proc_frame >= 22)\n",
    "        # ERODE E DILATE\n",
    "        proc_frame = proc_frame.dilate(S2).erode(S3)\n",
    "        #BLOBS\n",
    "        target_blobs = proc_frame.blobs().filter(area=(1000, 7000), touch=False)\n",
    "        #inertia = np.array([[target_blobs.upq(2, 0), target_blobs.upq(1, 1)],[target_blobs.upq(1, 1), target_blobs.upq(0, 2)]])\n",
    "        #centre = target_blobs.centroid\n",
    "        #area = target_blobs.mpq(0, 0)\n",
    "        #ellipse = 4 * inertia / area\n",
    "        # APPEND NA SEQUÊNCIA DE FRAMES\n",
    "        frames.append(proc_frame)\n",
    "        blobs.append(target_blobs)\n",
    "        #ellipses.append(ellipse)\n",
    "        #centres.append(centre)\n",
    "        #break\n",
    "    return frames, blobs, ellipses, centres"
   ]
  },
  {
   "cell_type": "code",
   "execution_count": null,
   "metadata": {},
   "outputs": [],
   "source": [
    "video = VideoFile(\"Video1_husky.mp4\", dtype='float')\n",
    "proc_video, blobs, ellipses, centres = bot_detector(video)"
   ]
  },
  {
   "cell_type": "code",
   "execution_count": null,
   "metadata": {},
   "outputs": [],
   "source": [
    "idx = 1020\n",
    "with plt.ioff():\n",
    "    plt.imshow(proc_video[idx].image, cmap='gray')\n",
    "    plot_ellipse(ellipses[idx], centre = centres[idx], inverted=True, color=\"blue\")\n",
    "    plt.colorbar()\n",
    "    plt.show()"
   ]
  },
  {
   "cell_type": "code",
   "execution_count": null,
   "metadata": {},
   "outputs": [],
   "source": [
    "blobs"
   ]
  },
  {
   "cell_type": "code",
   "execution_count": null,
   "metadata": {},
   "outputs": [],
   "source": [
    "'''\n",
    "# Importação do arquivo de vídeo\n",
    "video = VideoFile(\"Video1_husky.mp4\", dtype='double')\n",
    "\n",
    "# Animação\n",
    "fig = plt.figure()\n",
    "plt.axis('off')\n",
    "plt.title('Vídeo Original')\n",
    "frames = []\n",
    "\n",
    "for im in video:\n",
    "    tmp_fig = plt.imshow(im.image, animated=True)\n",
    "    frames.append([tmp_fig])\n",
    "\n",
    "plt.close()\n",
    "\n",
    "print(\"stage 1... done.\")\n",
    "\n",
    "video_play = animation.ArtistAnimation(fig, frames, interval=33, repeat_delay=1000)\n",
    "print(\"stage 2... done.\")\n",
    "\n",
    "#display(HTML(video_play.to_jshtml(embed_frames=True)))\n",
    "\n",
    "# PARA SALVAR O ARQUIVO DE VÍDEO, DESCOMENTE A LINHA ABAIXO\n",
    "video_play.save('frames.mp4')\n",
    "print(\"stage 3... done.\")\n",
    "\n",
    "print(\"done.\")\n",
    "'''"
   ]
  }
 ],
 "metadata": {
  "kernelspec": {
   "display_name": "RVC3",
   "language": "python",
   "name": "python3"
  },
  "language_info": {
   "codemirror_mode": {
    "name": "ipython",
    "version": 3
   },
   "file_extension": ".py",
   "mimetype": "text/x-python",
   "name": "python",
   "nbconvert_exporter": "python",
   "pygments_lexer": "ipython3",
   "version": "3.10.13"
  }
 },
 "nbformat": 4,
 "nbformat_minor": 2
}
