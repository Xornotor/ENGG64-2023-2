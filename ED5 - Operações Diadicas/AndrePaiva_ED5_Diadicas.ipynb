{
 "cells": [
  {
   "cell_type": "markdown",
   "metadata": {},
   "source": [
    "# **Estudo Dirigido 5 - Operações Diádicas**\n",
    "\n",
    "**Aluno:** André Paiva Conrado Rodrigues\n",
    "\n",
    "**Matéria:** ENGG64 - Visão Computacional - 2023.2"
   ]
  },
  {
   "cell_type": "markdown",
   "metadata": {},
   "source": [
    "## 1 - Importação de dependências e configurações\n",
    "\n",
    "Para esta atividade é utilizada a `machinevisiontoolbox` do Peter Corke e a biblioteca `matplotlib` para exibição de imagens e animações. Também são utilizados recursos do `IPython` para reprodução de vídeo."
   ]
  },
  {
   "cell_type": "code",
   "execution_count": null,
   "metadata": {},
   "outputs": [],
   "source": [
    "from IPython.display import HTML\n",
    "from IPython.display import display\n",
    "from machinevisiontoolbox import *\n",
    "import matplotlib as mpl\n",
    "from matplotlib import pyplot as plt\n",
    "from matplotlib import animation\n",
    "\n",
    "mpl.rcParams['animation.embed_limit'] = 200"
   ]
  },
  {
   "cell_type": "markdown",
   "metadata": {},
   "source": [
    "## 2 - Abrindo o arquivo de vídeo\n",
    "\n",
    "Abrimos o arquivo de vídeo original e reproduzimos utilizando `matplotlib.animation`, gerando um elemento JS HTML embedded.\n",
    "\n",
    "**Atenção:** a execução do código a seguir pode demorar algum tempo."
   ]
  },
  {
   "cell_type": "code",
   "execution_count": null,
   "metadata": {},
   "outputs": [],
   "source": [
    "# Importação do arquivo de vídeo\n",
    "video = VideoFile(\"traffic_sequence.mpg\", mono=True, dtype='double')\n",
    "\n",
    "# Animação\n",
    "fig = plt.figure()\n",
    "plt.axis('off')\n",
    "plt.title('Vídeo Original')\n",
    "frames = []\n",
    "\n",
    "for im in video:\n",
    "    tmp_fig = plt.imshow(im.image, cmap='gray', animated=True)\n",
    "    frames.append([tmp_fig])\n",
    "\n",
    "video_play = animation.ArtistAnimation(fig, frames, interval=33, blit=True, repeat_delay=1000)\n",
    "\n",
    "display(HTML(video_play.to_jshtml(embed_frames=True)))\n",
    "\n",
    "# PARA SALVAR O ARQUIVO DE VÍDEO, DESCOMENTE A LINHA ABAIXO\n",
    "# video_play.save('frames.mp4',  dpi = 200)\n",
    "\n",
    "plt.close()"
   ]
  },
  {
   "cell_type": "markdown",
   "metadata": {},
   "source": [
    "## 3 - Diferença entre frames adjacentes\n",
    "\n",
    "Aqui, são calculadas as diferenças absolutas entre pixels de frames adjacentes. O resultado é reproduzido em vídeo por meio do `matplotlib.animation`, gerando um elemento JS HTML embedded.\n",
    "\n",
    "**Atenção:** a execução do código a seguir pode demorar algum tempo."
   ]
  },
  {
   "cell_type": "code",
   "execution_count": null,
   "metadata": {},
   "outputs": [],
   "source": [
    "# Exibição da diferença entre frames\n",
    "fig = plt.figure()\n",
    "plt.axis('off')\n",
    "plt.title('Diferença entre frames')\n",
    "diff_frames = []\n",
    "prev_frame = []\n",
    "\n",
    "for im in video:\n",
    "    if video.i != 1:\n",
    "        diff_tmp = np.abs(im.image - prev_frame)\n",
    "        tmp_fig = plt.imshow(diff_tmp, cmap='gray', animated=True)\n",
    "        diff_frames.append([tmp_fig])\n",
    "    prev_frame = im.image\n",
    "        \n",
    "video_play = animation.ArtistAnimation(fig, diff_frames, interval=33, blit=True, repeat_delay=1000)\n",
    "\n",
    "display(HTML(video_play.to_jshtml()))\n",
    "\n",
    "# PARA SALVAR O ARQUIVO DE VÍDEO, DESCOMENTE A LINHA ABAIXO\n",
    "# video_play.save('diff_frames.mp4', dpi = 200)\n",
    "\n",
    "plt.close()"
   ]
  }
 ],
 "metadata": {
  "kernelspec": {
   "display_name": "Python 3 (ipykernel)",
   "language": "python",
   "name": "python3"
  },
  "language_info": {
   "codemirror_mode": {
    "name": "ipython",
    "version": 3
   },
   "file_extension": ".py",
   "mimetype": "text/x-python",
   "name": "python",
   "nbconvert_exporter": "python",
   "pygments_lexer": "ipython3",
   "version": "3.10.13"
  }
 },
 "nbformat": 4,
 "nbformat_minor": 4
}
